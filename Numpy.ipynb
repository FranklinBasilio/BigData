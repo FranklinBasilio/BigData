{
 "cells": [
  {
   "cell_type": "markdown",
   "metadata": {},
   "source": [
    "## Aula 01 de Setembro 2020 - Numpy- Manhã UEPB"
   ]
  },
  {
   "cell_type": "markdown",
   "metadata": {},
   "source": [
    "### Aluno: Franklin da Silva Basilio Mat.: 121086577 "
   ]
  },
  {
   "cell_type": "code",
   "execution_count": 1,
   "metadata": {},
   "outputs": [],
   "source": [
    "import numpy as np"
   ]
  },
  {
   "cell_type": "code",
   "execution_count": 4,
   "metadata": {},
   "outputs": [
    {
     "data": {
      "text/plain": [
       "'1.18.5'"
      ]
     },
     "execution_count": 4,
     "metadata": {},
     "output_type": "execute_result"
    }
   ],
   "source": [
    "np.__version__ # verifica a versão do no instalado"
   ]
  },
  {
   "cell_type": "code",
   "execution_count": 5,
   "metadata": {},
   "outputs": [
    {
     "name": "stdout",
     "output_type": "stream",
     "text": [
      "Help on built-in function array in module numpy:\n",
      "\n",
      "array(...)\n",
      "    array(object, dtype=None, copy=True, order='K', subok=False, ndmin=0)\n",
      "    \n",
      "    Create an array.\n",
      "    \n",
      "    Parameters\n",
      "    ----------\n",
      "    object : array_like\n",
      "        An array, any object exposing the array interface, an object whose\n",
      "        __array__ method returns an array, or any (nested) sequence.\n",
      "    dtype : data-type, optional\n",
      "        The desired data-type for the array.  If not given, then the type will\n",
      "        be determined as the minimum type required to hold the objects in the\n",
      "        sequence.\n",
      "    copy : bool, optional\n",
      "        If true (default), then the object is copied.  Otherwise, a copy will\n",
      "        only be made if __array__ returns a copy, if obj is a nested sequence,\n",
      "        or if a copy is needed to satisfy any of the other requirements\n",
      "        (`dtype`, `order`, etc.).\n",
      "    order : {'K', 'A', 'C', 'F'}, optional\n",
      "        Specify the memory layout of the array. If object is not an array, the\n",
      "        newly created array will be in C order (row major) unless 'F' is\n",
      "        specified, in which case it will be in Fortran order (column major).\n",
      "        If object is an array the following holds.\n",
      "    \n",
      "        ===== ========= ===================================================\n",
      "        order  no copy                     copy=True\n",
      "        ===== ========= ===================================================\n",
      "        'K'   unchanged F & C order preserved, otherwise most similar order\n",
      "        'A'   unchanged F order if input is F and not C, otherwise C order\n",
      "        'C'   C order   C order\n",
      "        'F'   F order   F order\n",
      "        ===== ========= ===================================================\n",
      "    \n",
      "        When ``copy=False`` and a copy is made for other reasons, the result is\n",
      "        the same as if ``copy=True``, with some exceptions for `A`, see the\n",
      "        Notes section. The default order is 'K'.\n",
      "    subok : bool, optional\n",
      "        If True, then sub-classes will be passed-through, otherwise\n",
      "        the returned array will be forced to be a base-class array (default).\n",
      "    ndmin : int, optional\n",
      "        Specifies the minimum number of dimensions that the resulting\n",
      "        array should have.  Ones will be pre-pended to the shape as\n",
      "        needed to meet this requirement.\n",
      "    \n",
      "    Returns\n",
      "    -------\n",
      "    out : ndarray\n",
      "        An array object satisfying the specified requirements.\n",
      "    \n",
      "    See Also\n",
      "    --------\n",
      "    empty_like : Return an empty array with shape and type of input.\n",
      "    ones_like : Return an array of ones with shape and type of input.\n",
      "    zeros_like : Return an array of zeros with shape and type of input.\n",
      "    full_like : Return a new array with shape of input filled with value.\n",
      "    empty : Return a new uninitialized array.\n",
      "    ones : Return a new array setting values to one.\n",
      "    zeros : Return a new array setting values to zero.\n",
      "    full : Return a new array of given shape filled with value.\n",
      "    \n",
      "    \n",
      "    Notes\n",
      "    -----\n",
      "    When order is 'A' and `object` is an array in neither 'C' nor 'F' order,\n",
      "    and a copy is forced by a change in dtype, then the order of the result is\n",
      "    not necessarily 'C' as expected. This is likely a bug.\n",
      "    \n",
      "    Examples\n",
      "    --------\n",
      "    >>> np.array([1, 2, 3])\n",
      "    array([1, 2, 3])\n",
      "    \n",
      "    Upcasting:\n",
      "    \n",
      "    >>> np.array([1, 2, 3.0])\n",
      "    array([ 1.,  2.,  3.])\n",
      "    \n",
      "    More than one dimension:\n",
      "    \n",
      "    >>> np.array([[1, 2], [3, 4]])\n",
      "    array([[1, 2],\n",
      "           [3, 4]])\n",
      "    \n",
      "    Minimum dimensions 2:\n",
      "    \n",
      "    >>> np.array([1, 2, 3], ndmin=2)\n",
      "    array([[1, 2, 3]])\n",
      "    \n",
      "    Type provided:\n",
      "    \n",
      "    >>> np.array([1, 2, 3], dtype=complex)\n",
      "    array([ 1.+0.j,  2.+0.j,  3.+0.j])\n",
      "    \n",
      "    Data-type consisting of more than one element:\n",
      "    \n",
      "    >>> x = np.array([(1,2),(3,4)],dtype=[('a','<i4'),('b','<i4')])\n",
      "    >>> x['a']\n",
      "    array([1, 3])\n",
      "    \n",
      "    Creating an array from sub-classes:\n",
      "    \n",
      "    >>> np.array(np.mat('1 2; 3 4'))\n",
      "    array([[1, 2],\n",
      "           [3, 4]])\n",
      "    \n",
      "    >>> np.array(np.mat('1 2; 3 4'), subok=True)\n",
      "    matrix([[1, 2],\n",
      "            [3, 4]])\n",
      "\n"
     ]
    }
   ],
   "source": [
    "help(np.array)"
   ]
  },
  {
   "cell_type": "code",
   "execution_count": 6,
   "metadata": {},
   "outputs": [],
   "source": [
    "v1 = np.array([0,1,2,3,4,5,6,7,8])"
   ]
  },
  {
   "cell_type": "code",
   "execution_count": 7,
   "metadata": {},
   "outputs": [
    {
     "data": {
      "text/plain": [
       "array([0, 1, 2, 3, 4, 5, 6, 7, 8])"
      ]
     },
     "execution_count": 7,
     "metadata": {},
     "output_type": "execute_result"
    }
   ],
   "source": [
    "v1"
   ]
  },
  {
   "cell_type": "code",
   "execution_count": 8,
   "metadata": {},
   "outputs": [
    {
     "data": {
      "text/plain": [
       "numpy.ndarray"
      ]
     },
     "execution_count": 8,
     "metadata": {},
     "output_type": "execute_result"
    }
   ],
   "source": [
    "type(v1)"
   ]
  },
  {
   "cell_type": "code",
   "execution_count": 9,
   "metadata": {},
   "outputs": [
    {
     "data": {
      "text/plain": [
       "array([ 0,  1,  3,  6, 10, 15, 21, 28, 36], dtype=int32)"
      ]
     },
     "execution_count": 9,
     "metadata": {},
     "output_type": "execute_result"
    }
   ],
   "source": [
    "v1.cumsum()"
   ]
  },
  {
   "cell_type": "code",
   "execution_count": 10,
   "metadata": {},
   "outputs": [
    {
     "name": "stdout",
     "output_type": "stream",
     "text": [
      "[0 1 2 3 4 5 6 7 8]\n"
     ]
    }
   ],
   "source": [
    "print(v1)"
   ]
  },
  {
   "cell_type": "code",
   "execution_count": 11,
   "metadata": {},
   "outputs": [
    {
     "data": {
      "text/plain": [
       "array([100,   1,   2,   3,   4,   5,   6,   7,   8])"
      ]
     },
     "execution_count": 11,
     "metadata": {},
     "output_type": "execute_result"
    }
   ],
   "source": [
    "v1[0]=100\n",
    "v1"
   ]
  },
  {
   "cell_type": "code",
   "execution_count": 12,
   "metadata": {},
   "outputs": [
    {
     "ename": "ValueError",
     "evalue": "invalid literal for int() with base 10: 'cct'",
     "output_type": "error",
     "traceback": [
      "\u001b[1;31m---------------------------------------------------------------------------\u001b[0m",
      "\u001b[1;31mValueError\u001b[0m                                Traceback (most recent call last)",
      "\u001b[1;32m<ipython-input-12-458db5d6f861>\u001b[0m in \u001b[0;36m<module>\u001b[1;34m\u001b[0m\n\u001b[1;32m----> 1\u001b[1;33m \u001b[0mv1\u001b[0m\u001b[1;33m[\u001b[0m\u001b[1;36m1\u001b[0m\u001b[1;33m]\u001b[0m \u001b[1;33m=\u001b[0m \u001b[1;34m'cct'\u001b[0m\u001b[1;33m\u001b[0m\u001b[1;33m\u001b[0m\u001b[0m\n\u001b[0m",
      "\u001b[1;31mValueError\u001b[0m: invalid literal for int() with base 10: 'cct'"
     ]
    }
   ],
   "source": [
    "v1[1] = 'cct'"
   ]
  },
  {
   "cell_type": "code",
   "execution_count": 13,
   "metadata": {},
   "outputs": [
    {
     "data": {
      "text/plain": [
       "(9,)"
      ]
     },
     "execution_count": 13,
     "metadata": {},
     "output_type": "execute_result"
    }
   ],
   "source": [
    "v1.shape"
   ]
  },
  {
   "cell_type": "code",
   "execution_count": 14,
   "metadata": {},
   "outputs": [
    {
     "data": {
      "text/plain": [
       "dtype('int32')"
      ]
     },
     "execution_count": 14,
     "metadata": {},
     "output_type": "execute_result"
    }
   ],
   "source": [
    "v1.dtype"
   ]
  },
  {
   "cell_type": "markdown",
   "metadata": {},
   "source": [
    "## Funções"
   ]
  },
  {
   "cell_type": "code",
   "execution_count": 16,
   "metadata": {},
   "outputs": [
    {
     "data": {
      "text/plain": [
       "array([0. , 0.5, 1. , 1.5, 2. , 2.5, 3. , 3.5, 4. ])"
      ]
     },
     "execution_count": 16,
     "metadata": {},
     "output_type": "execute_result"
    }
   ],
   "source": [
    "# Intervalo - Inicio, Fim(Exclusive) , passo ou incremento\n",
    "v2 = np.arange(0.,4.5, .5)\n",
    "v2"
   ]
  },
  {
   "cell_type": "code",
   "execution_count": 17,
   "metadata": {},
   "outputs": [
    {
     "data": {
      "text/plain": [
       "numpy.ndarray"
      ]
     },
     "execution_count": 17,
     "metadata": {},
     "output_type": "execute_result"
    }
   ],
   "source": [
    "type(v2)"
   ]
  },
  {
   "cell_type": "code",
   "execution_count": 18,
   "metadata": {},
   "outputs": [
    {
     "data": {
      "text/plain": [
       "(9,)"
      ]
     },
     "execution_count": 18,
     "metadata": {},
     "output_type": "execute_result"
    }
   ],
   "source": [
    "np.shape(v2)"
   ]
  },
  {
   "cell_type": "code",
   "execution_count": 19,
   "metadata": {},
   "outputs": [
    {
     "data": {
      "text/plain": [
       "dtype('float64')"
      ]
     },
     "execution_count": 19,
     "metadata": {},
     "output_type": "execute_result"
    }
   ],
   "source": [
    "v2.dtype"
   ]
  },
  {
   "cell_type": "code",
   "execution_count": 20,
   "metadata": {},
   "outputs": [
    {
     "data": {
      "text/plain": [
       "array([1.  , 1.25, 1.5 , 1.75, 2.  , 2.25, 2.5 , 2.75, 3.  , 3.25, 3.5 ,\n",
       "       3.75, 4.  , 4.25, 4.5 , 4.75, 5.  , 5.25, 5.5 , 5.75, 6.  , 6.25,\n",
       "       6.5 , 6.75, 7.  , 7.25, 7.5 , 7.75, 8.  , 8.25, 8.5 , 8.75, 9.  ,\n",
       "       9.25, 9.5 , 9.75])"
      ]
     },
     "execution_count": 20,
     "metadata": {},
     "output_type": "execute_result"
    }
   ],
   "source": [
    "x = np.arange(1,10,0.25)\n",
    "x"
   ]
  },
  {
   "cell_type": "code",
   "execution_count": 21,
   "metadata": {},
   "outputs": [
    {
     "data": {
      "text/plain": [
       "array([ True, False,  True,  True])"
      ]
     },
     "execution_count": 21,
     "metadata": {},
     "output_type": "execute_result"
    }
   ],
   "source": [
    "b = np.array([True, False, True, True])\n",
    "b"
   ]
  },
  {
   "cell_type": "code",
   "execution_count": 22,
   "metadata": {},
   "outputs": [
    {
     "data": {
      "text/plain": [
       "dtype('bool')"
      ]
     },
     "execution_count": 22,
     "metadata": {},
     "output_type": "execute_result"
    }
   ],
   "source": [
    "b.dtype"
   ]
  },
  {
   "cell_type": "code",
   "execution_count": 23,
   "metadata": {},
   "outputs": [
    {
     "data": {
      "text/plain": [
       "array(['python', 'R', 'java', 'érika'], dtype='<U6')"
      ]
     },
     "execution_count": 23,
     "metadata": {},
     "output_type": "execute_result"
    }
   ],
   "source": [
    "s = np.array(['python','R','java','érika'])\n",
    "s"
   ]
  },
  {
   "cell_type": "markdown",
   "metadata": {},
   "source": [
    "## Matrizes"
   ]
  },
  {
   "cell_type": "code",
   "execution_count": 24,
   "metadata": {},
   "outputs": [
    {
     "data": {
      "text/plain": [
       "array([[1, 2, 3],\n",
       "       [4, 5, 6]])"
      ]
     },
     "execution_count": 24,
     "metadata": {},
     "output_type": "execute_result"
    }
   ],
   "source": [
    "m = np.array([[1,2,3],[4,5,6]])\n",
    "m"
   ]
  },
  {
   "cell_type": "code",
   "execution_count": 25,
   "metadata": {},
   "outputs": [
    {
     "data": {
      "text/plain": [
       "(2, 3)"
      ]
     },
     "execution_count": 25,
     "metadata": {},
     "output_type": "execute_result"
    }
   ],
   "source": [
    "m.shape"
   ]
  },
  {
   "cell_type": "code",
   "execution_count": 26,
   "metadata": {},
   "outputs": [],
   "source": [
    "m1 = np.ones((2,3))"
   ]
  },
  {
   "cell_type": "code",
   "execution_count": 27,
   "metadata": {},
   "outputs": [
    {
     "data": {
      "text/plain": [
       "array([[1., 1., 1.],\n",
       "       [1., 1., 1.]])"
      ]
     },
     "execution_count": 27,
     "metadata": {},
     "output_type": "execute_result"
    }
   ],
   "source": [
    "m1"
   ]
  },
  {
   "cell_type": "code",
   "execution_count": 28,
   "metadata": {},
   "outputs": [
    {
     "data": {
      "text/plain": [
       "[[13, 24, 56], [23, 76, 12], [68, 61, 8]]"
      ]
     },
     "execution_count": 28,
     "metadata": {},
     "output_type": "execute_result"
    }
   ],
   "source": [
    "lista = [[13,24,56],[23,76,12],[68,61,8]]\n",
    "lista"
   ]
  },
  {
   "cell_type": "code",
   "execution_count": 29,
   "metadata": {},
   "outputs": [
    {
     "data": {
      "text/plain": [
       "list"
      ]
     },
     "execution_count": 29,
     "metadata": {},
     "output_type": "execute_result"
    }
   ],
   "source": [
    "type(lista)"
   ]
  },
  {
   "cell_type": "code",
   "execution_count": 30,
   "metadata": {},
   "outputs": [
    {
     "data": {
      "text/plain": [
       "matrix([[13, 24, 56],\n",
       "        [23, 76, 12],\n",
       "        [68, 61,  8]])"
      ]
     },
     "execution_count": 30,
     "metadata": {},
     "output_type": "execute_result"
    }
   ],
   "source": [
    "m2 = np.matrix(lista)\n",
    "m2"
   ]
  },
  {
   "cell_type": "code",
   "execution_count": 31,
   "metadata": {},
   "outputs": [
    {
     "data": {
      "text/plain": [
       "(3, 3)"
      ]
     },
     "execution_count": 31,
     "metadata": {},
     "output_type": "execute_result"
    }
   ],
   "source": [
    "m2.shape"
   ]
  },
  {
   "cell_type": "code",
   "execution_count": 32,
   "metadata": {},
   "outputs": [
    {
     "data": {
      "text/plain": [
       "numpy.matrix"
      ]
     },
     "execution_count": 32,
     "metadata": {},
     "output_type": "execute_result"
    }
   ],
   "source": [
    "type(m2)"
   ]
  },
  {
   "cell_type": "code",
   "execution_count": 34,
   "metadata": {},
   "outputs": [
    {
     "data": {
      "text/plain": [
       "9"
      ]
     },
     "execution_count": 34,
     "metadata": {},
     "output_type": "execute_result"
    }
   ],
   "source": [
    "m2.size # numero de elementos da amtriz"
   ]
  },
  {
   "cell_type": "markdown",
   "metadata": {},
   "source": [
    "m2[2,1] "
   ]
  },
  {
   "cell_type": "code",
   "execution_count": 35,
   "metadata": {},
   "outputs": [
    {
     "data": {
      "text/plain": [
       "61"
      ]
     },
     "execution_count": 35,
     "metadata": {},
     "output_type": "execute_result"
    }
   ],
   "source": [
    "m2[2,1]"
   ]
  },
  {
   "cell_type": "code",
   "execution_count": 36,
   "metadata": {},
   "outputs": [
    {
     "data": {
      "text/plain": [
       "matrix([[ 13,  24,  56],\n",
       "        [100,  76,  12],\n",
       "        [ 68,  61,   8]])"
      ]
     },
     "execution_count": 36,
     "metadata": {},
     "output_type": "execute_result"
    }
   ],
   "source": [
    "m2[1,0]=100\n",
    "m2"
   ]
  },
  {
   "cell_type": "code",
   "execution_count": 39,
   "metadata": {},
   "outputs": [
    {
     "data": {
      "text/plain": [
       "dtype('int32')"
      ]
     },
     "execution_count": 39,
     "metadata": {},
     "output_type": "execute_result"
    }
   ],
   "source": [
    "z = np.array([1,2])\n",
    "z.dtype"
   ]
  },
  {
   "cell_type": "code",
   "execution_count": 40,
   "metadata": {},
   "outputs": [
    {
     "data": {
      "text/plain": [
       "dtype('float64')"
      ]
     },
     "execution_count": 40,
     "metadata": {},
     "output_type": "execute_result"
    }
   ],
   "source": [
    "z = np.array([1.0,2.0])\n",
    "z.dtype"
   ]
  },
  {
   "cell_type": "code",
   "execution_count": 41,
   "metadata": {},
   "outputs": [
    {
     "data": {
      "text/plain": [
       "dtype('float32')"
      ]
     },
     "execution_count": 41,
     "metadata": {},
     "output_type": "execute_result"
    }
   ],
   "source": [
    "z = np.array([1,2], dtype = np.float32)\n",
    "z.dtype"
   ]
  },
  {
   "cell_type": "markdown",
   "metadata": {},
   "source": [
    "## Método Random()"
   ]
  },
  {
   "cell_type": "code",
   "execution_count": 42,
   "metadata": {},
   "outputs": [
    {
     "data": {
      "text/plain": [
       "array([0.35219487, 0.93050976, 0.33639335, 0.26076607, 0.46265512,\n",
       "       0.21893697, 0.98061408, 0.12744993, 0.52673223, 0.36109558])"
      ]
     },
     "execution_count": 42,
     "metadata": {},
     "output_type": "execute_result"
    }
   ],
   "source": [
    "# 10 números aleatórios\n",
    "x =np.random.rand(10)\n",
    "x"
   ]
  },
  {
   "cell_type": "code",
   "execution_count": 43,
   "metadata": {},
   "outputs": [],
   "source": [
    "import matplotlib.pyplot as plt\n",
    "%matplotlib inline"
   ]
  },
  {
   "cell_type": "code",
   "execution_count": 44,
   "metadata": {},
   "outputs": [
    {
     "data": {
      "image/png": "[encoded data removed]",
      "text/plain": [
       "<Figure size 432x288 with 1 Axes>"
      ]
     },
     "metadata": {
      "needs_background": "light"
     },
     "output_type": "display_data"
    }
   ],
   "source": [
    "plt.show(plt.hist(x))"
   ]
  },
  {
   "cell_type": "code",
   "execution_count": 45,
   "metadata": {},
   "outputs": [],
   "source": [
    "x = np.random.rand(10000)"
   ]
  },
  {
   "cell_type": "code",
   "execution_count": 46,
   "metadata": {},
   "outputs": [
    {
     "data": {
      "image/png": "[encoded data removed]",
      "text/plain": [
       "<Figure size 432x288 with 1 Axes>"
      ]
     },
     "metadata": {
      "needs_background": "light"
     },
     "output_type": "display_data"
    }
   ],
   "source": [
    "plt.show(plt.hist(x))"
   ]
  },
  {
   "cell_type": "code",
   "execution_count": 47,
   "metadata": {},
   "outputs": [
    {
     "data": {
      "text/plain": [
       "array([0.61200115, 0.41222823, 0.74647307, 0.18425337, 0.80550569,\n",
       "       0.14002497, 0.99637568, 0.59247651, 0.72165574, 0.08690589,\n",
       "       0.97797945, 0.55426886, 0.38607296, 0.82732183, 0.10044066,\n",
       "       0.13536991, 0.1229668 , 0.72193488, 0.25051813, 0.63753677])"
      ]
     },
     "execution_count": 47,
     "metadata": {},
     "output_type": "execute_result"
    }
   ],
   "source": [
    "x[:20]"
   ]
  },
  {
   "cell_type": "code",
   "execution_count": 48,
   "metadata": {},
   "outputs": [],
   "source": [
    "x = np.random.randn(100000) # distribuicao normal"
   ]
  },
  {
   "cell_type": "code",
   "execution_count": 49,
   "metadata": {},
   "outputs": [
    {
     "data": {
      "text/plain": [
       "array([ 1.34823801,  2.02295022,  0.84468472, -0.96839717, -0.92343351,\n",
       "        2.89199761,  0.36643986, -0.08010938, -1.08000558, -1.47580101,\n",
       "       -2.18878657,  0.29581824, -0.2657942 ,  2.07309108,  0.40516605,\n",
       "       -2.19565122, -1.19099391, -1.33586599,  0.10538062, -1.22433881])"
      ]
     },
     "execution_count": 49,
     "metadata": {},
     "output_type": "execute_result"
    }
   ],
   "source": [
    "x[:20]"
   ]
  },
  {
   "cell_type": "code",
   "execution_count": 50,
   "metadata": {},
   "outputs": [
    {
     "data": {
      "image/png": "[encoded data removed]",
      "text/plain": [
       "<Figure size 432x288 with 1 Axes>"
      ]
     },
     "metadata": {
      "needs_background": "light"
     },
     "output_type": "display_data"
    }
   ],
   "source": [
    "plt.show(plt.hist(x))"
   ]
  },
  {
   "cell_type": "code",
   "execution_count": 51,
   "metadata": {},
   "outputs": [],
   "source": [
    "url='https://raw.githubusercontent.com/vladimiralencar/Alunos-UEPB-TopicosEspeciaisEmBancoDeDados/master/Python-Para-Analise-de-Dados/iris.csv'"
   ]
  },
  {
   "cell_type": "code",
   "execution_count": 52,
   "metadata": {},
   "outputs": [
    {
     "name": "stdout",
     "output_type": "stream",
     "text": [
      "[[5.1 3.5 1.4 0.2]\n",
      " [4.9 3.  1.4 0.2]\n",
      " [4.7 3.2 1.3 0.2]\n",
      " [4.6 3.1 1.5 0.2]\n",
      " [5.  3.6 1.4 0.2]\n",
      " [5.4 3.9 1.7 0.4]\n",
      " [4.6 3.4 1.4 0.3]\n",
      " [5.  3.4 1.5 0.2]\n",
      " [4.4 2.9 1.4 0.2]\n",
      " [4.9 3.1 1.5 0.1]\n",
      " [5.4 3.7 1.5 0.2]\n",
      " [4.8 3.4 1.6 0.2]\n",
      " [4.8 3.  1.4 0.1]\n",
      " [4.3 3.  1.1 0.1]\n",
      " [5.8 4.  1.2 0.2]\n",
      " [5.7 4.4 1.5 0.4]\n",
      " [5.4 3.9 1.3 0.4]\n",
      " [5.1 3.5 1.4 0.3]\n",
      " [5.7 3.8 1.7 0.3]\n",
      " [5.1 3.8 1.5 0.3]\n",
      " [5.4 3.4 1.7 0.2]\n",
      " [5.1 3.7 1.5 0.4]\n",
      " [4.6 3.6 1.  0.2]\n",
      " [5.1 3.3 1.7 0.5]\n",
      " [4.8 3.4 1.9 0.2]\n",
      " [5.  3.  1.6 0.2]\n",
      " [5.  3.4 1.6 0.4]\n",
      " [5.2 3.5 1.5 0.2]\n",
      " [5.2 3.4 1.4 0.2]\n",
      " [4.7 3.2 1.6 0.2]\n",
      " [4.8 3.1 1.6 0.2]\n",
      " [5.4 3.4 1.5 0.4]\n",
      " [5.2 4.1 1.5 0.1]\n",
      " [5.5 4.2 1.4 0.2]\n",
      " [4.9 3.1 1.5 0.1]\n",
      " [5.  3.2 1.2 0.2]\n",
      " [5.5 3.5 1.3 0.2]\n",
      " [4.9 3.1 1.5 0.1]\n",
      " [4.4 3.  1.3 0.2]\n",
      " [5.1 3.4 1.5 0.2]\n",
      " [5.  3.5 1.3 0.3]\n",
      " [4.5 2.3 1.3 0.3]\n",
      " [4.4 3.2 1.3 0.2]\n",
      " [5.  3.5 1.6 0.6]\n",
      " [5.1 3.8 1.9 0.4]\n",
      " [4.8 3.  1.4 0.3]\n",
      " [5.1 3.8 1.6 0.2]\n",
      " [4.6 3.2 1.4 0.2]\n",
      " [5.3 3.7 1.5 0.2]\n",
      " [5.  3.3 1.4 0.2]\n",
      " [7.  3.2 4.7 1.4]\n",
      " [6.4 3.2 4.5 1.5]\n",
      " [6.9 3.1 4.9 1.5]\n",
      " [5.5 2.3 4.  1.3]\n",
      " [6.5 2.8 4.6 1.5]\n",
      " [5.7 2.8 4.5 1.3]\n",
      " [6.3 3.3 4.7 1.6]\n",
      " [4.9 2.4 3.3 1. ]\n",
      " [6.6 2.9 4.6 1.3]\n",
      " [5.2 2.7 3.9 1.4]\n",
      " [5.  2.  3.5 1. ]\n",
      " [5.9 3.  4.2 1.5]\n",
      " [6.  2.2 4.  1. ]\n",
      " [6.1 2.9 4.7 1.4]\n",
      " [5.6 2.9 3.6 1.3]\n",
      " [6.7 3.1 4.4 1.4]\n",
      " [5.6 3.  4.5 1.5]\n",
      " [5.8 2.7 4.1 1. ]\n",
      " [6.2 2.2 4.5 1.5]\n",
      " [5.6 2.5 3.9 1.1]\n",
      " [5.9 3.2 4.8 1.8]\n",
      " [6.1 2.8 4.  1.3]\n",
      " [6.3 2.5 4.9 1.5]\n",
      " [6.1 2.8 4.7 1.2]\n",
      " [6.4 2.9 4.3 1.3]\n",
      " [6.6 3.  4.4 1.4]\n",
      " [6.8 2.8 4.8 1.4]\n",
      " [6.7 3.  5.  1.7]\n",
      " [6.  2.9 4.5 1.5]\n",
      " [5.7 2.6 3.5 1. ]\n",
      " [5.5 2.4 3.8 1.1]\n",
      " [5.5 2.4 3.7 1. ]\n",
      " [5.8 2.7 3.9 1.2]\n",
      " [6.  2.7 5.1 1.6]\n",
      " [5.4 3.  4.5 1.5]\n",
      " [6.  3.4 4.5 1.6]\n",
      " [6.7 3.1 4.7 1.5]\n",
      " [6.3 2.3 4.4 1.3]\n",
      " [5.6 3.  4.1 1.3]\n",
      " [5.5 2.5 4.  1.3]\n",
      " [5.5 2.6 4.4 1.2]\n",
      " [6.1 3.  4.6 1.4]\n",
      " [5.8 2.6 4.  1.2]\n",
      " [5.  2.3 3.3 1. ]\n",
      " [5.6 2.7 4.2 1.3]\n",
      " [5.7 3.  4.2 1.2]\n",
      " [5.7 2.9 4.2 1.3]\n",
      " [6.2 2.9 4.3 1.3]\n",
      " [5.1 2.5 3.  1.1]\n",
      " [5.7 2.8 4.1 1.3]\n",
      " [6.3 3.3 6.  2.5]\n",
      " [5.8 2.7 5.1 1.9]\n",
      " [7.1 3.  5.9 2.1]\n",
      " [6.3 2.9 5.6 1.8]\n",
      " [6.5 3.  5.8 2.2]\n",
      " [7.6 3.  6.6 2.1]\n",
      " [4.9 2.5 4.5 1.7]\n",
      " [7.3 2.9 6.3 1.8]\n",
      " [6.7 2.5 5.8 1.8]\n",
      " [7.2 3.6 6.1 2.5]\n",
      " [6.5 3.2 5.1 2. ]\n",
      " [6.4 2.7 5.3 1.9]\n",
      " [6.8 3.  5.5 2.1]\n",
      " [5.7 2.5 5.  2. ]\n",
      " [5.8 2.8 5.1 2.4]\n",
      " [6.4 3.2 5.3 2.3]\n",
      " [6.5 3.  5.5 1.8]\n",
      " [7.7 3.8 6.7 2.2]\n",
      " [7.7 2.6 6.9 2.3]\n",
      " [6.  2.2 5.  1.5]\n",
      " [6.9 3.2 5.7 2.3]\n",
      " [5.6 2.8 4.9 2. ]\n",
      " [7.7 2.8 6.7 2. ]\n",
      " [6.3 2.7 4.9 1.8]\n",
      " [6.7 3.3 5.7 2.1]\n",
      " [7.2 3.2 6.  1.8]\n",
      " [6.2 2.8 4.8 1.8]\n",
      " [6.1 3.  4.9 1.8]\n",
      " [6.4 2.8 5.6 2.1]\n",
      " [7.2 3.  5.8 1.6]\n",
      " [7.4 2.8 6.1 1.9]\n",
      " [7.9 3.8 6.4 2. ]\n",
      " [6.4 2.8 5.6 2.2]\n",
      " [6.3 2.8 5.1 1.5]\n",
      " [6.1 2.6 5.6 1.4]\n",
      " [7.7 3.  6.1 2.3]\n",
      " [6.3 3.4 5.6 2.4]\n",
      " [6.4 3.1 5.5 1.8]\n",
      " [6.  3.  4.8 1.8]\n",
      " [6.9 3.1 5.4 2.1]\n",
      " [6.7 3.1 5.6 2.4]\n",
      " [6.9 3.1 5.1 2.3]\n",
      " [5.8 2.7 5.1 1.9]\n",
      " [6.8 3.2 5.9 2.3]\n",
      " [6.7 3.3 5.7 2.5]\n",
      " [6.7 3.  5.2 2.3]\n",
      " [6.3 2.5 5.  1.9]\n",
      " [6.5 3.  5.2 2. ]\n",
      " [6.2 3.4 5.4 2.3]\n",
      " [5.9 3.  5.1 1.8]]\n"
     ]
    }
   ],
   "source": [
    "f = np.loadtxt(url,delimiter=',', usecols=(0,1,2,3),skiprows=1)\n",
    "print(f)"
   ]
  },
  {
   "cell_type": "code",
   "execution_count": 53,
   "metadata": {},
   "outputs": [
    {
     "data": {
      "text/plain": [
       "(150, 4)"
      ]
     },
     "execution_count": 53,
     "metadata": {},
     "output_type": "execute_result"
    }
   ],
   "source": [
    "f.shape"
   ]
  },
  {
   "cell_type": "code",
   "execution_count": 54,
   "metadata": {},
   "outputs": [
    {
     "data": {
      "text/plain": [
       "numpy.ndarray"
      ]
     },
     "execution_count": 54,
     "metadata": {},
     "output_type": "execute_result"
    }
   ],
   "source": [
    "type(f)"
   ]
  },
  {
   "cell_type": "code",
   "execution_count": 55,
   "metadata": {},
   "outputs": [
    {
     "name": "stdout",
     "output_type": "stream",
     "text": [
      "[5.1 4.9 4.7 4.6 5.  5.4 4.6 5.  4.4 4.9]\n"
     ]
    }
   ],
   "source": [
    "var1,var2=np.loadtxt(url,delimiter=',',usecols=(0,1),skiprows=1,unpack=True)\n",
    "print(var1[:10])"
   ]
  },
  {
   "cell_type": "code",
   "execution_count": 56,
   "metadata": {},
   "outputs": [
    {
     "name": "stdout",
     "output_type": "stream",
     "text": [
      "[3.5 3.  3.2 3.1 3.6 3.9 3.4 3.4 2.9 3.1]\n"
     ]
    }
   ],
   "source": [
    "print(var2[:10])"
   ]
  },
  {
   "cell_type": "code",
   "execution_count": 57,
   "metadata": {},
   "outputs": [
    {
     "data": {
      "image/png": "[encoded data removed]",
      "text/plain": [
       "<Figure size 432x288 with 1 Axes>"
      ]
     },
     "metadata": {
      "needs_background": "light"
     },
     "output_type": "display_data"
    }
   ],
   "source": [
    "plt.show(plt.plot(var1, var2, 'o', markersize=8,alpha=0.75))"
   ]
  },
  {
   "cell_type": "code",
   "execution_count": 58,
   "metadata": {},
   "outputs": [
    {
     "data": {
      "image/png": "[encoded data removed]",
      "text/plain": [
       "<Figure size 432x288 with 1 Axes>"
      ]
     },
     "metadata": {
      "needs_background": "light"
     },
     "output_type": "display_data"
    }
   ],
   "source": [
    "plt.show(plt.plot(var1, var2, '+', markersize=8,alpha=0.75))"
   ]
  },
  {
   "cell_type": "code",
   "execution_count": 59,
   "metadata": {},
   "outputs": [
    {
     "data": {
      "image/png": "[encoded data removed]",
      "text/plain": [
       "<Figure size 432x288 with 1 Axes>"
      ]
     },
     "metadata": {
      "needs_background": "light"
     },
     "output_type": "display_data"
    }
   ],
   "source": [
    "plt.show(plt.plot(var1, var2, 'o', markersize=3,alpha=0.75))"
   ]
  },
  {
   "cell_type": "code",
   "execution_count": 60,
   "metadata": {},
   "outputs": [
    {
     "data": {
      "image/png": "[encoded data removed]",
      "text/plain": [
       "<Figure size 432x288 with 1 Axes>"
      ]
     },
     "metadata": {
      "needs_background": "light"
     },
     "output_type": "display_data"
    }
   ],
   "source": [
    "plt.show(plt.plot(var1, var2, 'o', markersize=8,color='Red',alpha=0.75))"
   ]
  },
  {
   "cell_type": "markdown",
   "metadata": {},
   "source": [
    "## Estatística - Funções"
   ]
  },
  {
   "cell_type": "code",
   "execution_count": 61,
   "metadata": {},
   "outputs": [
    {
     "data": {
      "text/plain": [
       "array([ 15,  34, -10, 100,  50,  70,  30,  10,  10,  10,  20,  20,  20])"
      ]
     },
     "execution_count": 61,
     "metadata": {},
     "output_type": "execute_result"
    }
   ],
   "source": [
    "a = np.array([15,34,-10,100,50,70,30,10,10,10,20,20,20])\n",
    "a"
   ]
  },
  {
   "cell_type": "code",
   "execution_count": 62,
   "metadata": {},
   "outputs": [
    {
     "data": {
      "text/plain": [
       "dtype('int32')"
      ]
     },
     "execution_count": 62,
     "metadata": {},
     "output_type": "execute_result"
    }
   ],
   "source": [
    "a.dtype"
   ]
  },
  {
   "cell_type": "code",
   "execution_count": 63,
   "metadata": {},
   "outputs": [
    {
     "data": {
      "text/plain": [
       "29.153846153846153"
      ]
     },
     "execution_count": 63,
     "metadata": {},
     "output_type": "execute_result"
    }
   ],
   "source": [
    "np.mean(a)"
   ]
  },
  {
   "cell_type": "code",
   "execution_count": 64,
   "metadata": {},
   "outputs": [
    {
     "data": {
      "text/plain": [
       "29.153846153846153"
      ]
     },
     "execution_count": 64,
     "metadata": {},
     "output_type": "execute_result"
    }
   ],
   "source": [
    "media = np.mean(a)\n",
    "media"
   ]
  },
  {
   "cell_type": "code",
   "execution_count": 65,
   "metadata": {},
   "outputs": [
    {
     "data": {
      "text/plain": [
       "28.054469420002754"
      ]
     },
     "execution_count": 65,
     "metadata": {},
     "output_type": "execute_result"
    }
   ],
   "source": [
    "# Desvio padrao\n",
    "np.std(a)"
   ]
  },
  {
   "cell_type": "code",
   "execution_count": 66,
   "metadata": {},
   "outputs": [
    {
     "data": {
      "image/png": "[encoded data removed]",
      "text/plain": [
       "<Figure size 432x288 with 1 Axes>"
      ]
     },
     "metadata": {
      "needs_background": "light"
     },
     "output_type": "display_data"
    }
   ],
   "source": [
    "plt.show(plt.hist(a))"
   ]
  },
  {
   "cell_type": "code",
   "execution_count": 67,
   "metadata": {},
   "outputs": [
    {
     "data": {
      "text/plain": [
       "787.0532544378696"
      ]
     },
     "execution_count": 67,
     "metadata": {},
     "output_type": "execute_result"
    }
   ],
   "source": [
    "# Variancia\n",
    "np.var(a)"
   ]
  },
  {
   "cell_type": "code",
   "execution_count": 68,
   "metadata": {},
   "outputs": [
    {
     "data": {
      "text/plain": [
       "array([1, 2, 3, 4, 5, 6, 7, 8, 9])"
      ]
     },
     "execution_count": 68,
     "metadata": {},
     "output_type": "execute_result"
    }
   ],
   "source": [
    "d = np.arange(1,10) # exclusive 10 -1\n",
    "d"
   ]
  },
  {
   "cell_type": "code",
   "execution_count": 69,
   "metadata": {},
   "outputs": [
    {
     "data": {
      "text/plain": [
       "45"
      ]
     },
     "execution_count": 69,
     "metadata": {},
     "output_type": "execute_result"
    }
   ],
   "source": [
    "np.sum(d)"
   ]
  },
  {
   "cell_type": "code",
   "execution_count": 70,
   "metadata": {},
   "outputs": [
    {
     "data": {
      "text/plain": [
       "362880"
      ]
     },
     "execution_count": 70,
     "metadata": {},
     "output_type": "execute_result"
    }
   ],
   "source": [
    "np.prod(d)"
   ]
  },
  {
   "cell_type": "code",
   "execution_count": 71,
   "metadata": {},
   "outputs": [
    {
     "data": {
      "text/plain": [
       "array([ 1,  3,  6, 10, 15, 21, 28, 36, 45], dtype=int32)"
      ]
     },
     "execution_count": 71,
     "metadata": {},
     "output_type": "execute_result"
    }
   ],
   "source": [
    "#soma acumulada\n",
    "np.cumsum(d)"
   ]
  },
  {
   "cell_type": "code",
   "execution_count": 72,
   "metadata": {},
   "outputs": [
    {
     "data": {
      "text/plain": [
       "(400, 2)"
      ]
     },
     "execution_count": 72,
     "metadata": {},
     "output_type": "execute_result"
    }
   ],
   "source": [
    "a = np.random.randn(400,2)\n",
    "a.shape"
   ]
  },
  {
   "cell_type": "code",
   "execution_count": 73,
   "metadata": {},
   "outputs": [
    {
     "data": {
      "text/plain": [
       "array([[-0.94495908,  0.26735525],\n",
       "       [-1.4605984 , -0.94414528]])"
      ]
     },
     "execution_count": 73,
     "metadata": {},
     "output_type": "execute_result"
    }
   ],
   "source": [
    "a[:2]"
   ]
  },
  {
   "cell_type": "code",
   "execution_count": 74,
   "metadata": {},
   "outputs": [
    {
     "data": {
      "text/plain": [
       "-0.0035560367565981997"
      ]
     },
     "execution_count": 74,
     "metadata": {},
     "output_type": "execute_result"
    }
   ],
   "source": [
    "m= np.mean(a)\n",
    "m"
   ]
  },
  {
   "cell_type": "code",
   "execution_count": 75,
   "metadata": {},
   "outputs": [
    {
     "data": {
      "text/plain": [
       "array([-0.00020599, -0.00690608])"
      ]
     },
     "execution_count": 75,
     "metadata": {},
     "output_type": "execute_result"
    }
   ],
   "source": [
    "m0 = a.mean(0)\n",
    "m0"
   ]
  },
  {
   "cell_type": "code",
   "execution_count": 76,
   "metadata": {},
   "outputs": [
    {
     "data": {
      "text/plain": [
       "array([-0.94495908, -1.4605984 , -0.34480797,  1.5560202 ,  0.68891869,\n",
       "        0.26846769, -1.31482401, -0.27712534, -2.73508093, -1.00395098,\n",
       "        0.00801588, -1.23227355, -0.02251048,  0.19767142, -0.17657369,\n",
       "        0.00327216,  3.13743803, -0.99790264,  0.81875939,  1.98296635,\n",
       "        1.08951112,  1.20749455,  0.03186951, -0.41965089,  0.28300158,\n",
       "        0.91687709,  0.99948803, -1.83773436,  1.24596333, -0.54614631,\n",
       "        0.40229024, -0.33210178,  0.2606649 , -0.22749733,  0.73582026,\n",
       "        0.22902652, -0.82606501,  0.77737503,  0.2343273 , -0.24543979,\n",
       "       -0.48223845, -0.03390206, -1.0901038 ,  1.06856313, -0.58179207,\n",
       "        0.72782225,  0.75774952,  0.41266874, -0.19453028,  0.34057359,\n",
       "       -0.53629544, -0.24689546,  1.79537686, -0.22766549,  1.22923326,\n",
       "        1.02089649, -1.13080083,  0.83328312,  1.9977034 , -1.15682864,\n",
       "       -1.34739324,  0.75177881,  0.80822469,  0.66514236,  0.04678594,\n",
       "       -0.8370925 , -0.52556461, -1.2194378 , -0.72424914, -0.72252611,\n",
       "       -0.21980445,  0.22775371, -0.90148419,  0.47263235, -1.7296744 ,\n",
       "       -0.1517937 ,  0.77951283, -0.09448495,  0.35984176,  1.24618477,\n",
       "       -0.63955036,  0.17915596,  1.30374402, -0.7634098 , -0.24199454,\n",
       "        1.99483145,  0.6468058 , -0.10351528,  0.79046091, -0.09864596,\n",
       "        0.33612525, -0.27924418,  0.7285814 ,  0.32299747, -0.8623511 ,\n",
       "        0.1302569 ,  0.50150278, -0.54366683, -0.86232898,  0.70240897,\n",
       "       -0.24215529,  0.29455297,  0.66285356, -0.51970336, -0.49005059,\n",
       "       -1.01537802,  0.48236061, -0.81705881, -1.50905583, -0.84832123,\n",
       "       -0.81952993, -0.41951144, -1.65580289, -0.39114327,  0.2289399 ,\n",
       "        0.54270749,  0.58720198, -0.48084913, -0.53361878, -0.06740826,\n",
       "        0.58241879,  1.49731262,  0.7636627 , -0.50363876,  1.534861  ,\n",
       "        1.31181529, -0.75571503, -0.22730042, -1.75070875, -0.69759639,\n",
       "        0.29154981, -0.31034324, -0.57039359, -1.08936694, -0.18706948,\n",
       "        0.31905613, -1.44400288,  0.20445494,  0.89349193, -0.22142437,\n",
       "        0.689222  , -0.61545357,  0.16767008,  0.49214486, -0.61326633,\n",
       "       -1.37276608,  0.36477391, -0.25944049, -1.65208085,  1.85564622,\n",
       "       -0.9495844 ,  0.71735703,  0.07576821, -0.17036244, -0.0678333 ,\n",
       "        0.72819343,  0.23790864, -1.34970816, -0.09424667, -0.33780047,\n",
       "       -0.75555235, -1.88287432,  1.81720388, -0.42079743, -0.36787765,\n",
       "       -0.12037273,  1.02195511,  0.0079127 ,  1.41897056,  0.82064217,\n",
       "        0.59855675,  1.32150244,  0.35648799,  1.01733313,  0.29888597,\n",
       "        0.8254328 , -0.64897523, -1.00640679,  0.32035309,  0.30131689,\n",
       "       -0.9092267 , -0.65108895, -0.17881975,  0.51860993, -0.79382935,\n",
       "       -0.07899657,  2.16946795, -0.95477813,  0.66523975, -0.32152055,\n",
       "       -0.30721131, -1.0085456 , -0.92841891, -0.69496193, -1.33915342,\n",
       "        0.82560963,  0.12320998, -0.43073101, -1.17404375,  0.90136258,\n",
       "       -0.58186843, -0.07132032,  0.49943745,  1.53017385, -1.67910327,\n",
       "       -0.59410862,  0.62755342, -0.51119828,  1.14258039,  0.80370304,\n",
       "        0.81822427, -0.59627561,  1.76201876, -1.2349962 ,  0.38049744,\n",
       "       -0.60911198, -1.30020677, -1.38989623, -0.88087431, -0.818059  ,\n",
       "        0.39207943,  0.96261248, -0.0115251 ,  0.75412371,  1.31294969,\n",
       "        0.01375275,  0.76151875,  0.32154553,  0.45651705, -0.09932686,\n",
       "        0.26531021, -1.12629868,  0.55963022,  0.06510525, -0.24977923,\n",
       "        2.5143752 , -0.22573648, -0.57185462, -0.79121219, -0.7610331 ,\n",
       "        0.3793267 ,  0.32779567, -1.7135999 ,  1.38882432,  1.70307657,\n",
       "        0.18611706, -0.84680812, -0.8457976 ,  0.60063419,  1.658049  ,\n",
       "        0.9747838 , -0.97454122, -0.65952085, -1.40136267,  2.31153439,\n",
       "       -0.49891337,  0.92984396,  0.91103166, -0.03234163, -0.58843192,\n",
       "        0.50288263,  0.13861597, -0.14339282, -0.45959054, -0.54616634,\n",
       "        0.82826862, -1.02511524, -1.75053775,  0.74478798, -1.16097546,\n",
       "       -0.53140476,  0.63362893,  0.59501188, -0.54464207,  0.12848847,\n",
       "        0.88964382, -0.72011899, -0.58069563, -1.82315728,  1.45179608,\n",
       "       -1.21089386, -0.66937717,  1.30833114, -0.08432887,  0.15422685,\n",
       "        0.66747125,  0.55428628,  0.3396595 , -1.19604447, -0.42206464,\n",
       "        0.03300385,  1.64585418, -0.19347479, -0.60553958, -0.67543856,\n",
       "       -0.81379732,  0.25664031, -0.28368917, -0.29416119,  0.82159908,\n",
       "       -1.02627248,  0.81415882,  1.09311078, -0.80771638,  0.1051222 ,\n",
       "        1.81908971,  1.05574875,  1.00209226, -0.47533171,  0.20660723,\n",
       "       -0.01459619,  0.08410535,  0.67195815,  0.48388272, -0.94811361,\n",
       "        0.55371432,  0.38101617,  0.92377373,  0.99330203, -1.9668125 ,\n",
       "        0.1299202 ,  1.53561469, -0.10749899, -0.53655482,  0.78521486,\n",
       "       -0.78192934,  1.40096478, -0.50839767, -0.61028328,  0.09626343,\n",
       "       -0.94216282, -0.45854344, -0.67067178,  0.41904954,  0.08940984,\n",
       "       -0.21389579, -1.87566778, -1.07028269, -0.53947675,  0.91398874,\n",
       "        0.34080263, -0.67290891,  0.83786742,  0.2852406 ,  0.93550856,\n",
       "       -1.87017255,  0.81667368,  0.21307871,  1.25655152,  1.13008695,\n",
       "        0.35112926,  0.43615305, -0.85878149, -1.16076243,  0.36397978,\n",
       "       -1.03826162,  1.23920239, -0.09756048, -0.60048966, -0.6314649 ,\n",
       "       -2.80336154,  0.17050802, -0.45215553, -0.58455725,  0.18394426,\n",
       "       -0.36391794, -0.2475621 , -0.15410399, -0.29803403, -2.47319397,\n",
       "       -1.83967545,  1.25503251,  0.89522708,  1.04799655, -0.4487753 ,\n",
       "        1.67961059, -0.85605827,  1.06836329,  0.13991817,  0.53462305,\n",
       "       -0.89836928,  0.82212958, -0.21911523,  0.4182793 ,  0.61273078,\n",
       "       -0.47397197, -0.4484264 , -1.32200474,  0.2759899 , -0.3731492 ,\n",
       "        0.63370598,  0.61833858, -0.76751597, -0.68885466,  0.30836141,\n",
       "        0.11735589,  2.36834314,  0.01575559, -1.3609034 ,  1.34467328])"
      ]
     },
     "execution_count": 76,
     "metadata": {},
     "output_type": "execute_result"
    }
   ],
   "source": [
    "a[:, 0] # todas as linhas da coluna 0"
   ]
  },
  {
   "cell_type": "code",
   "execution_count": 77,
   "metadata": {},
   "outputs": [
    {
     "data": {
      "text/plain": [
       "array([-0.94495908, -1.4605984 , -0.34480797,  1.5560202 ,  0.68891869,\n",
       "        0.26846769, -1.31482401, -0.27712534, -2.73508093, -1.00395098,\n",
       "        0.00801588, -1.23227355, -0.02251048,  0.19767142, -0.17657369,\n",
       "        0.00327216,  3.13743803, -0.99790264,  0.81875939,  1.98296635,\n",
       "        1.08951112,  1.20749455,  0.03186951, -0.41965089,  0.28300158,\n",
       "        0.91687709,  0.99948803, -1.83773436,  1.24596333, -0.54614631,\n",
       "        0.40229024, -0.33210178,  0.2606649 , -0.22749733,  0.73582026,\n",
       "        0.22902652, -0.82606501,  0.77737503,  0.2343273 , -0.24543979,\n",
       "       -0.48223845, -0.03390206, -1.0901038 ,  1.06856313, -0.58179207,\n",
       "        0.72782225,  0.75774952,  0.41266874, -0.19453028,  0.34057359,\n",
       "       -0.53629544, -0.24689546,  1.79537686, -0.22766549,  1.22923326,\n",
       "        1.02089649, -1.13080083,  0.83328312,  1.9977034 , -1.15682864,\n",
       "       -1.34739324,  0.75177881,  0.80822469,  0.66514236,  0.04678594,\n",
       "       -0.8370925 , -0.52556461, -1.2194378 , -0.72424914, -0.72252611,\n",
       "       -0.21980445,  0.22775371, -0.90148419,  0.47263235, -1.7296744 ,\n",
       "       -0.1517937 ,  0.77951283, -0.09448495,  0.35984176,  1.24618477,\n",
       "       -0.63955036,  0.17915596,  1.30374402, -0.7634098 , -0.24199454,\n",
       "        1.99483145,  0.6468058 , -0.10351528,  0.79046091, -0.09864596,\n",
       "        0.33612525, -0.27924418,  0.7285814 ,  0.32299747, -0.8623511 ,\n",
       "        0.1302569 ,  0.50150278, -0.54366683, -0.86232898,  0.70240897,\n",
       "       -0.24215529,  0.29455297,  0.66285356, -0.51970336, -0.49005059,\n",
       "       -1.01537802,  0.48236061, -0.81705881, -1.50905583, -0.84832123,\n",
       "       -0.81952993, -0.41951144, -1.65580289, -0.39114327,  0.2289399 ,\n",
       "        0.54270749,  0.58720198, -0.48084913, -0.53361878, -0.06740826,\n",
       "        0.58241879,  1.49731262,  0.7636627 , -0.50363876,  1.534861  ,\n",
       "        1.31181529, -0.75571503, -0.22730042, -1.75070875, -0.69759639,\n",
       "        0.29154981, -0.31034324, -0.57039359, -1.08936694, -0.18706948,\n",
       "        0.31905613, -1.44400288,  0.20445494,  0.89349193, -0.22142437,\n",
       "        0.689222  , -0.61545357,  0.16767008,  0.49214486, -0.61326633,\n",
       "       -1.37276608,  0.36477391, -0.25944049, -1.65208085,  1.85564622,\n",
       "       -0.9495844 ,  0.71735703,  0.07576821, -0.17036244, -0.0678333 ,\n",
       "        0.72819343,  0.23790864, -1.34970816, -0.09424667, -0.33780047,\n",
       "       -0.75555235, -1.88287432,  1.81720388, -0.42079743, -0.36787765,\n",
       "       -0.12037273,  1.02195511,  0.0079127 ,  1.41897056,  0.82064217,\n",
       "        0.59855675,  1.32150244,  0.35648799,  1.01733313,  0.29888597,\n",
       "        0.8254328 , -0.64897523, -1.00640679,  0.32035309,  0.30131689,\n",
       "       -0.9092267 , -0.65108895, -0.17881975,  0.51860993, -0.79382935,\n",
       "       -0.07899657,  2.16946795, -0.95477813,  0.66523975, -0.32152055,\n",
       "       -0.30721131, -1.0085456 , -0.92841891, -0.69496193, -1.33915342,\n",
       "        0.82560963,  0.12320998, -0.43073101, -1.17404375,  0.90136258,\n",
       "       -0.58186843, -0.07132032,  0.49943745,  1.53017385, -1.67910327,\n",
       "       -0.59410862,  0.62755342, -0.51119828,  1.14258039,  0.80370304,\n",
       "        0.81822427, -0.59627561,  1.76201876, -1.2349962 ,  0.38049744,\n",
       "       -0.60911198, -1.30020677, -1.38989623, -0.88087431, -0.818059  ,\n",
       "        0.39207943,  0.96261248, -0.0115251 ,  0.75412371,  1.31294969,\n",
       "        0.01375275,  0.76151875,  0.32154553,  0.45651705, -0.09932686,\n",
       "        0.26531021, -1.12629868,  0.55963022,  0.06510525, -0.24977923,\n",
       "        2.5143752 , -0.22573648, -0.57185462, -0.79121219, -0.7610331 ,\n",
       "        0.3793267 ,  0.32779567, -1.7135999 ,  1.38882432,  1.70307657,\n",
       "        0.18611706, -0.84680812, -0.8457976 ,  0.60063419,  1.658049  ,\n",
       "        0.9747838 , -0.97454122, -0.65952085, -1.40136267,  2.31153439,\n",
       "       -0.49891337,  0.92984396,  0.91103166, -0.03234163, -0.58843192,\n",
       "        0.50288263,  0.13861597, -0.14339282, -0.45959054, -0.54616634,\n",
       "        0.82826862, -1.02511524, -1.75053775,  0.74478798, -1.16097546,\n",
       "       -0.53140476,  0.63362893,  0.59501188, -0.54464207,  0.12848847,\n",
       "        0.88964382, -0.72011899, -0.58069563, -1.82315728,  1.45179608,\n",
       "       -1.21089386, -0.66937717,  1.30833114, -0.08432887,  0.15422685,\n",
       "        0.66747125,  0.55428628,  0.3396595 , -1.19604447, -0.42206464,\n",
       "        0.03300385,  1.64585418, -0.19347479, -0.60553958, -0.67543856,\n",
       "       -0.81379732,  0.25664031, -0.28368917, -0.29416119,  0.82159908,\n",
       "       -1.02627248,  0.81415882,  1.09311078, -0.80771638,  0.1051222 ,\n",
       "        1.81908971,  1.05574875,  1.00209226, -0.47533171,  0.20660723,\n",
       "       -0.01459619,  0.08410535,  0.67195815,  0.48388272, -0.94811361,\n",
       "        0.55371432,  0.38101617,  0.92377373,  0.99330203, -1.9668125 ,\n",
       "        0.1299202 ,  1.53561469, -0.10749899, -0.53655482,  0.78521486,\n",
       "       -0.78192934,  1.40096478, -0.50839767, -0.61028328,  0.09626343,\n",
       "       -0.94216282, -0.45854344, -0.67067178,  0.41904954,  0.08940984,\n",
       "       -0.21389579, -1.87566778, -1.07028269, -0.53947675,  0.91398874,\n",
       "        0.34080263, -0.67290891,  0.83786742,  0.2852406 ,  0.93550856,\n",
       "       -1.87017255,  0.81667368,  0.21307871,  1.25655152,  1.13008695,\n",
       "        0.35112926,  0.43615305, -0.85878149, -1.16076243,  0.36397978,\n",
       "       -1.03826162,  1.23920239, -0.09756048, -0.60048966, -0.6314649 ,\n",
       "       -2.80336154,  0.17050802, -0.45215553, -0.58455725,  0.18394426,\n",
       "       -0.36391794, -0.2475621 , -0.15410399, -0.29803403, -2.47319397,\n",
       "       -1.83967545,  1.25503251,  0.89522708,  1.04799655, -0.4487753 ,\n",
       "        1.67961059, -0.85605827,  1.06836329,  0.13991817,  0.53462305,\n",
       "       -0.89836928,  0.82212958, -0.21911523,  0.4182793 ,  0.61273078,\n",
       "       -0.47397197, -0.4484264 , -1.32200474,  0.2759899 , -0.3731492 ,\n",
       "        0.63370598,  0.61833858, -0.76751597, -0.68885466,  0.30836141,\n",
       "        0.11735589,  2.36834314,  0.01575559, -1.3609034 ,  1.34467328])"
      ]
     },
     "execution_count": 77,
     "metadata": {},
     "output_type": "execute_result"
    }
   ],
   "source": [
    "a[0:400,0] # todas as linhas da coluna 0"
   ]
  },
  {
   "cell_type": "code",
   "execution_count": 78,
   "metadata": {},
   "outputs": [
    {
     "data": {
      "text/plain": [
       "(400, 2)"
      ]
     },
     "execution_count": 78,
     "metadata": {},
     "output_type": "execute_result"
    }
   ],
   "source": [
    "a.shape"
   ]
  },
  {
   "cell_type": "code",
   "execution_count": 79,
   "metadata": {},
   "outputs": [
    {
     "data": {
      "text/plain": [
       "400"
      ]
     },
     "execution_count": 79,
     "metadata": {},
     "output_type": "execute_result"
    }
   ],
   "source": [
    "linhas = a.shape[0]\n",
    "linhas"
   ]
  },
  {
   "cell_type": "code",
   "execution_count": 80,
   "metadata": {},
   "outputs": [
    {
     "data": {
      "text/plain": [
       "2"
      ]
     },
     "execution_count": 80,
     "metadata": {},
     "output_type": "execute_result"
    }
   ],
   "source": [
    "colunas = a.shape[1]\n",
    "colunas"
   ]
  },
  {
   "cell_type": "code",
   "execution_count": 81,
   "metadata": {},
   "outputs": [
    {
     "data": {
      "image/png": "[encoded data removed]",
      "text/plain": [
       "<Figure size 432x288 with 1 Axes>"
      ]
     },
     "metadata": {
      "needs_background": "light"
     },
     "output_type": "display_data"
    }
   ],
   "source": [
    "import matplotlib.pyplot as plt\n",
    "plt.plot(a[:,0], a[:,1],'o', markersize=8,alpha=0.75)\n",
    "plt.show()"
   ]
  },
  {
   "cell_type": "code",
   "execution_count": 82,
   "metadata": {},
   "outputs": [
    {
     "data": {
      "image/png": "[encoded data removed]",
      "text/plain": [
       "<Figure size 432x288 with 1 Axes>"
      ]
     },
     "metadata": {
      "needs_background": "light"
     },
     "output_type": "display_data"
    }
   ],
   "source": [
    "import matplotlib.pyplot as plt\n",
    "plt.plot(a[:,0], a[:,1],'o', markersize=3,alpha=0.75)\n",
    "plt.show()"
   ]
  },
  {
   "cell_type": "code",
   "execution_count": 83,
   "metadata": {},
   "outputs": [
    {
     "data": {
      "image/png": "[encoded data removed]",
      "text/plain": [
       "<Figure size 432x288 with 1 Axes>"
      ]
     },
     "metadata": {
      "needs_background": "light"
     },
     "output_type": "display_data"
    }
   ],
   "source": [
    "import matplotlib.pyplot as plt\n",
    "plt.plot(a[:,0], a[:,1],'+', markersize=8,alpha=0.75)\n",
    "plt.show()"
   ]
  },
  {
   "cell_type": "code",
   "execution_count": 84,
   "metadata": {},
   "outputs": [
    {
     "data": {
      "image/png": "[encoded data removed]",
      "text/plain": [
       "<Figure size 432x288 with 1 Axes>"
      ]
     },
     "metadata": {
      "needs_background": "light"
     },
     "output_type": "display_data"
    }
   ],
   "source": [
    "import matplotlib.pyplot as plt\n",
    "plt.plot(a[:,0], a[:,1],'*', markersize=8,alpha=0.75)\n",
    "plt.show()"
   ]
  },
  {
   "cell_type": "code",
   "execution_count": 85,
   "metadata": {},
   "outputs": [
    {
     "data": {
      "image/png": "[encoded data removed]",
      "text/plain": [
       "<Figure size 432x288 with 1 Axes>"
      ]
     },
     "metadata": {
      "needs_background": "light"
     },
     "output_type": "display_data"
    }
   ],
   "source": [
    "import matplotlib.pyplot as plt\n",
    "plt.plot(a[:,0], a[:,1],'*', markersize=5,alpha=0.75)\n",
    "plt.show()"
   ]
  },
  {
   "cell_type": "code",
   "execution_count": 86,
   "metadata": {},
   "outputs": [
    {
     "data": {
      "text/plain": [
       "-0.00020599086848433368"
      ]
     },
     "execution_count": 86,
     "metadata": {},
     "output_type": "execute_result"
    }
   ],
   "source": [
    "media0= np.mean(a[:,0])\n",
    "media0"
   ]
  },
  {
   "cell_type": "code",
   "execution_count": 87,
   "metadata": {},
   "outputs": [
    {
     "data": {
      "text/plain": [
       "-0.00690608264471205"
      ]
     },
     "execution_count": 87,
     "metadata": {},
     "output_type": "execute_result"
    }
   ],
   "source": [
    "media1 = np.mean(a[:,1])\n",
    "media1"
   ]
  },
  {
   "cell_type": "code",
   "execution_count": 95,
   "metadata": {},
   "outputs": [
    {
     "data": {
      "image/png": "[encoded data removed]",
      "text/plain": [
       "<Figure size 432x288 with 1 Axes>"
      ]
     },
     "metadata": {
      "needs_background": "light"
     },
     "output_type": "display_data"
    }
   ],
   "source": [
    "plt.plot(a[:,0],a[:,1],'o',markersize=5,alpha=0.75)\n",
    "plt.plot(media0,media1,'o',markersize=10)\n",
    "plt.show()"
   ]
  },
  {
   "cell_type": "code",
   "execution_count": 96,
   "metadata": {},
   "outputs": [
    {
     "data": {
      "image/png": "[encoded data removed]",
      "text/plain": [
       "<Figure size 432x288 with 1 Axes>"
      ]
     },
     "metadata": {
      "needs_background": "light"
     },
     "output_type": "display_data"
    }
   ],
   "source": [
    "plt.show(plt.hist(a[:,0]))"
   ]
  },
  {
   "cell_type": "code",
   "execution_count": 97,
   "metadata": {},
   "outputs": [
    {
     "data": {
      "image/png": "[encoded data removed]",
      "text/plain": [
       "<Figure size 432x288 with 1 Axes>"
      ]
     },
     "metadata": {
      "needs_background": "light"
     },
     "output_type": "display_data"
    }
   ],
   "source": [
    "plt.show(plt.hist(a[:,1]))"
   ]
  },
  {
   "cell_type": "code",
   "execution_count": 98,
   "metadata": {},
   "outputs": [
    {
     "data": {
      "text/plain": [
       "(400,)"
      ]
     },
     "execution_count": 98,
     "metadata": {},
     "output_type": "execute_result"
    }
   ],
   "source": [
    "m0=a[:,0]\n",
    "m0.shape"
   ]
  },
  {
   "cell_type": "code",
   "execution_count": 99,
   "metadata": {},
   "outputs": [
    {
     "data": {
      "text/plain": [
       "array([-0.94495908, -1.4605984 , -0.34480797,  1.5560202 ,  0.68891869,\n",
       "        0.26846769, -1.31482401, -0.27712534, -2.73508093, -1.00395098,\n",
       "        0.00801588, -1.23227355, -0.02251048,  0.19767142, -0.17657369,\n",
       "        0.00327216,  3.13743803, -0.99790264,  0.81875939,  1.98296635,\n",
       "        1.08951112,  1.20749455,  0.03186951, -0.41965089,  0.28300158,\n",
       "        0.91687709,  0.99948803, -1.83773436,  1.24596333, -0.54614631,\n",
       "        0.40229024, -0.33210178,  0.2606649 , -0.22749733,  0.73582026,\n",
       "        0.22902652, -0.82606501,  0.77737503,  0.2343273 , -0.24543979,\n",
       "       -0.48223845, -0.03390206, -1.0901038 ,  1.06856313, -0.58179207,\n",
       "        0.72782225,  0.75774952,  0.41266874, -0.19453028,  0.34057359,\n",
       "       -0.53629544, -0.24689546,  1.79537686, -0.22766549,  1.22923326,\n",
       "        1.02089649, -1.13080083,  0.83328312,  1.9977034 , -1.15682864,\n",
       "       -1.34739324,  0.75177881,  0.80822469,  0.66514236,  0.04678594,\n",
       "       -0.8370925 , -0.52556461, -1.2194378 , -0.72424914, -0.72252611,\n",
       "       -0.21980445,  0.22775371, -0.90148419,  0.47263235, -1.7296744 ,\n",
       "       -0.1517937 ,  0.77951283, -0.09448495,  0.35984176,  1.24618477,\n",
       "       -0.63955036,  0.17915596,  1.30374402, -0.7634098 , -0.24199454,\n",
       "        1.99483145,  0.6468058 , -0.10351528,  0.79046091, -0.09864596,\n",
       "        0.33612525, -0.27924418,  0.7285814 ,  0.32299747, -0.8623511 ,\n",
       "        0.1302569 ,  0.50150278, -0.54366683, -0.86232898,  0.70240897,\n",
       "       -0.24215529,  0.29455297,  0.66285356, -0.51970336, -0.49005059,\n",
       "       -1.01537802,  0.48236061, -0.81705881, -1.50905583, -0.84832123,\n",
       "       -0.81952993, -0.41951144, -1.65580289, -0.39114327,  0.2289399 ,\n",
       "        0.54270749,  0.58720198, -0.48084913, -0.53361878, -0.06740826,\n",
       "        0.58241879,  1.49731262,  0.7636627 , -0.50363876,  1.534861  ,\n",
       "        1.31181529, -0.75571503, -0.22730042, -1.75070875, -0.69759639,\n",
       "        0.29154981, -0.31034324, -0.57039359, -1.08936694, -0.18706948,\n",
       "        0.31905613, -1.44400288,  0.20445494,  0.89349193, -0.22142437,\n",
       "        0.689222  , -0.61545357,  0.16767008,  0.49214486, -0.61326633,\n",
       "       -1.37276608,  0.36477391, -0.25944049, -1.65208085,  1.85564622,\n",
       "       -0.9495844 ,  0.71735703,  0.07576821, -0.17036244, -0.0678333 ,\n",
       "        0.72819343,  0.23790864, -1.34970816, -0.09424667, -0.33780047,\n",
       "       -0.75555235, -1.88287432,  1.81720388, -0.42079743, -0.36787765,\n",
       "       -0.12037273,  1.02195511,  0.0079127 ,  1.41897056,  0.82064217,\n",
       "        0.59855675,  1.32150244,  0.35648799,  1.01733313,  0.29888597,\n",
       "        0.8254328 , -0.64897523, -1.00640679,  0.32035309,  0.30131689,\n",
       "       -0.9092267 , -0.65108895, -0.17881975,  0.51860993, -0.79382935,\n",
       "       -0.07899657,  2.16946795, -0.95477813,  0.66523975, -0.32152055,\n",
       "       -0.30721131, -1.0085456 , -0.92841891, -0.69496193, -1.33915342,\n",
       "        0.82560963,  0.12320998, -0.43073101, -1.17404375,  0.90136258,\n",
       "       -0.58186843, -0.07132032,  0.49943745,  1.53017385, -1.67910327,\n",
       "       -0.59410862,  0.62755342, -0.51119828,  1.14258039,  0.80370304,\n",
       "        0.81822427, -0.59627561,  1.76201876, -1.2349962 ,  0.38049744,\n",
       "       -0.60911198, -1.30020677, -1.38989623, -0.88087431, -0.818059  ,\n",
       "        0.39207943,  0.96261248, -0.0115251 ,  0.75412371,  1.31294969,\n",
       "        0.01375275,  0.76151875,  0.32154553,  0.45651705, -0.09932686,\n",
       "        0.26531021, -1.12629868,  0.55963022,  0.06510525, -0.24977923,\n",
       "        2.5143752 , -0.22573648, -0.57185462, -0.79121219, -0.7610331 ,\n",
       "        0.3793267 ,  0.32779567, -1.7135999 ,  1.38882432,  1.70307657,\n",
       "        0.18611706, -0.84680812, -0.8457976 ,  0.60063419,  1.658049  ,\n",
       "        0.9747838 , -0.97454122, -0.65952085, -1.40136267,  2.31153439,\n",
       "       -0.49891337,  0.92984396,  0.91103166, -0.03234163, -0.58843192,\n",
       "        0.50288263,  0.13861597, -0.14339282, -0.45959054, -0.54616634,\n",
       "        0.82826862, -1.02511524, -1.75053775,  0.74478798, -1.16097546,\n",
       "       -0.53140476,  0.63362893,  0.59501188, -0.54464207,  0.12848847,\n",
       "        0.88964382, -0.72011899, -0.58069563, -1.82315728,  1.45179608,\n",
       "       -1.21089386, -0.66937717,  1.30833114, -0.08432887,  0.15422685,\n",
       "        0.66747125,  0.55428628,  0.3396595 , -1.19604447, -0.42206464,\n",
       "        0.03300385,  1.64585418, -0.19347479, -0.60553958, -0.67543856,\n",
       "       -0.81379732,  0.25664031, -0.28368917, -0.29416119,  0.82159908,\n",
       "       -1.02627248,  0.81415882,  1.09311078, -0.80771638,  0.1051222 ,\n",
       "        1.81908971,  1.05574875,  1.00209226, -0.47533171,  0.20660723,\n",
       "       -0.01459619,  0.08410535,  0.67195815,  0.48388272, -0.94811361,\n",
       "        0.55371432,  0.38101617,  0.92377373,  0.99330203, -1.9668125 ,\n",
       "        0.1299202 ,  1.53561469, -0.10749899, -0.53655482,  0.78521486,\n",
       "       -0.78192934,  1.40096478, -0.50839767, -0.61028328,  0.09626343,\n",
       "       -0.94216282, -0.45854344, -0.67067178,  0.41904954,  0.08940984,\n",
       "       -0.21389579, -1.87566778, -1.07028269, -0.53947675,  0.91398874,\n",
       "        0.34080263, -0.67290891,  0.83786742,  0.2852406 ,  0.93550856,\n",
       "       -1.87017255,  0.81667368,  0.21307871,  1.25655152,  1.13008695,\n",
       "        0.35112926,  0.43615305, -0.85878149, -1.16076243,  0.36397978,\n",
       "       -1.03826162,  1.23920239, -0.09756048, -0.60048966, -0.6314649 ,\n",
       "       -2.80336154,  0.17050802, -0.45215553, -0.58455725,  0.18394426,\n",
       "       -0.36391794, -0.2475621 , -0.15410399, -0.29803403, -2.47319397,\n",
       "       -1.83967545,  1.25503251,  0.89522708,  1.04799655, -0.4487753 ,\n",
       "        1.67961059, -0.85605827,  1.06836329,  0.13991817,  0.53462305,\n",
       "       -0.89836928,  0.82212958, -0.21911523,  0.4182793 ,  0.61273078,\n",
       "       -0.47397197, -0.4484264 , -1.32200474,  0.2759899 , -0.3731492 ,\n",
       "        0.63370598,  0.61833858, -0.76751597, -0.68885466,  0.30836141,\n",
       "        0.11735589,  2.36834314,  0.01575559, -1.3609034 ,  1.34467328])"
      ]
     },
     "execution_count": 99,
     "metadata": {},
     "output_type": "execute_result"
    }
   ],
   "source": [
    "m0"
   ]
  },
  {
   "cell_type": "code",
   "execution_count": 100,
   "metadata": {},
   "outputs": [
    {
     "data": {
      "text/plain": [
       "array([-0.94495908, -1.4605984 , -0.34480797,  1.5560202 ,  0.68891869,\n",
       "        0.26846769, -1.31482401, -0.27712534, -2.73508093, -1.00395098])"
      ]
     },
     "execution_count": 100,
     "metadata": {},
     "output_type": "execute_result"
    }
   ],
   "source": [
    "m0[:10]"
   ]
  },
  {
   "cell_type": "code",
   "execution_count": 101,
   "metadata": {},
   "outputs": [
    {
     "data": {
      "text/plain": [
       "array([ 0.63370598,  0.61833858, -0.76751597, -0.68885466,  0.30836141,\n",
       "        0.11735589,  2.36834314,  0.01575559, -1.3609034 ,  1.34467328])"
      ]
     },
     "execution_count": 101,
     "metadata": {},
     "output_type": "execute_result"
    }
   ],
   "source": [
    "m0[-10:]"
   ]
  },
  {
   "cell_type": "code",
   "execution_count": 102,
   "metadata": {},
   "outputs": [
    {
     "data": {
      "text/plain": [
       "-2.8033615411103536"
      ]
     },
     "execution_count": 102,
     "metadata": {},
     "output_type": "execute_result"
    }
   ],
   "source": [
    "m0.min()"
   ]
  },
  {
   "cell_type": "code",
   "execution_count": 103,
   "metadata": {},
   "outputs": [
    {
     "data": {
      "text/plain": [
       "3.1374380339774395"
      ]
     },
     "execution_count": 103,
     "metadata": {},
     "output_type": "execute_result"
    }
   ],
   "source": [
    "m0.max()"
   ]
  },
  {
   "cell_type": "code",
   "execution_count": 104,
   "metadata": {},
   "outputs": [
    {
     "data": {
      "text/plain": [
       "-0.00020599086848433368"
      ]
     },
     "execution_count": 104,
     "metadata": {},
     "output_type": "execute_result"
    }
   ],
   "source": [
    "m0.mean()"
   ]
  },
  {
   "cell_type": "code",
   "execution_count": 105,
   "metadata": {},
   "outputs": [
    {
     "data": {
      "text/plain": [
       "array([11.45243195, 11.0273714 ,  9.36115443])"
      ]
     },
     "execution_count": 105,
     "metadata": {},
     "output_type": "execute_result"
    }
   ],
   "source": [
    "np.array([1.45243195, 1.0273714, -0.63884557])+10"
   ]
  },
  {
   "cell_type": "code",
   "execution_count": 106,
   "metadata": {},
   "outputs": [
    {
     "data": {
      "text/plain": [
       "array([ 1.,  1., -1.])"
      ]
     },
     "execution_count": 106,
     "metadata": {},
     "output_type": "execute_result"
    }
   ],
   "source": [
    "np.around([1.45243195, 1.0273714, -0.63884557])"
   ]
  },
  {
   "cell_type": "code",
   "execution_count": 107,
   "metadata": {},
   "outputs": [
    {
     "data": {
      "text/plain": [
       "array([ 1.45243195,  1.0273714 , -0.63884557])"
      ]
     },
     "execution_count": 107,
     "metadata": {},
     "output_type": "execute_result"
    }
   ],
   "source": [
    "c =np.array([1.45243195, 1.0273714, -0.63884557])\n",
    "c"
   ]
  },
  {
   "cell_type": "code",
   "execution_count": 108,
   "metadata": {},
   "outputs": [
    {
     "data": {
      "text/plain": [
       "array([ 1.45243195,  1.0273714 , -0.63884557])"
      ]
     },
     "execution_count": 108,
     "metadata": {},
     "output_type": "execute_result"
    }
   ],
   "source": [
    "d = c.flatten()\n",
    "d"
   ]
  },
  {
   "cell_type": "code",
   "execution_count": 109,
   "metadata": {},
   "outputs": [
    {
     "data": {
      "text/plain": [
       "array([5, 6])"
      ]
     },
     "execution_count": 109,
     "metadata": {},
     "output_type": "execute_result"
    }
   ],
   "source": [
    "w = np.array([5,6])\n",
    "w"
   ]
  },
  {
   "cell_type": "code",
   "execution_count": 110,
   "metadata": {},
   "outputs": [
    {
     "data": {
      "text/plain": [
       "array([1, 2, 3, 4])"
      ]
     },
     "execution_count": 110,
     "metadata": {},
     "output_type": "execute_result"
    }
   ],
   "source": [
    "v = np.array([1,2,3,4])\n",
    "v"
   ]
  },
  {
   "cell_type": "code",
   "execution_count": 111,
   "metadata": {},
   "outputs": [
    {
     "data": {
      "text/plain": [
       "array([1, 2, 3, 4, 5, 6])"
      ]
     },
     "execution_count": 111,
     "metadata": {},
     "output_type": "execute_result"
    }
   ],
   "source": [
    "z = np.concatenate((v,w),axis=0)\n",
    "z"
   ]
  },
  {
   "cell_type": "code",
   "execution_count": 112,
   "metadata": {},
   "outputs": [
    {
     "data": {
      "text/plain": [
       "array([0, 1, 2, 3, 4, 5, 6, 7, 8])"
      ]
     },
     "execution_count": 112,
     "metadata": {},
     "output_type": "execute_result"
    }
   ],
   "source": [
    "#reshape\n",
    "a = np.arange(9)\n",
    "a"
   ]
  },
  {
   "cell_type": "code",
   "execution_count": 113,
   "metadata": {},
   "outputs": [
    {
     "data": {
      "text/plain": [
       "array([[0, 1, 2],\n",
       "       [3, 4, 5],\n",
       "       [6, 7, 8]])"
      ]
     },
     "execution_count": 113,
     "metadata": {},
     "output_type": "execute_result"
    }
   ],
   "source": [
    "a2d = a.reshape(3,3)\n",
    "a2d"
   ]
  },
  {
   "cell_type": "code",
   "execution_count": 114,
   "metadata": {},
   "outputs": [
    {
     "data": {
      "text/plain": [
       "array([0, 1, 2, 3, 4, 5, 6, 7, 8, 9])"
      ]
     },
     "execution_count": 114,
     "metadata": {},
     "output_type": "execute_result"
    }
   ],
   "source": [
    "a = np.arange(10)\n",
    "a"
   ]
  },
  {
   "cell_type": "code",
   "execution_count": 115,
   "metadata": {},
   "outputs": [
    {
     "data": {
      "text/plain": [
       "array([[0, 1],\n",
       "       [2, 3],\n",
       "       [4, 5],\n",
       "       [6, 7],\n",
       "       [8, 9]])"
      ]
     },
     "execution_count": 115,
     "metadata": {},
     "output_type": "execute_result"
    }
   ],
   "source": [
    "a2d = a.reshape(5,2)\n",
    "a2d"
   ]
  },
  {
   "cell_type": "code",
   "execution_count": 116,
   "metadata": {},
   "outputs": [
    {
     "data": {
      "text/plain": [
       "array([[0, 1, 2, 3, 4],\n",
       "       [5, 6, 7, 8, 9]])"
      ]
     },
     "execution_count": 116,
     "metadata": {},
     "output_type": "execute_result"
    }
   ],
   "source": [
    "a2d = a.reshape(2,5)\n",
    "a2d"
   ]
  },
  {
   "cell_type": "code",
   "execution_count": 117,
   "metadata": {},
   "outputs": [
    {
     "data": {
      "text/plain": [
       "(2, 5)"
      ]
     },
     "execution_count": 117,
     "metadata": {},
     "output_type": "execute_result"
    }
   ],
   "source": [
    "a2d.shape"
   ]
  },
  {
   "cell_type": "markdown",
   "metadata": {},
   "source": [
    "#### Fim de Aula do dia 01 de setembro"
   ]
  },
  {
   "cell_type": "code",
   "execution_count": null,
   "metadata": {},
   "outputs": [],
   "source": []
  }
 ],
 "metadata": {
  "kernelspec": {
   "display_name": "Python 3",
   "language": "python",
   "name": "python3"
  },
  "language_info": {
   "codemirror_mode": {
    "name": "ipython",
    "version": 3
   },
   "file_extension": ".py",
   "mimetype": "text/x-python",
   "name": "python",
   "nbconvert_exporter": "python",
   "pygments_lexer": "ipython3",
   "version": "3.8.3"
  }
 },
 "nbformat": 4,
 "nbformat_minor": 4
}
